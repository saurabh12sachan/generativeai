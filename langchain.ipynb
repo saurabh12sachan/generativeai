{
 "cells": [
  {
   "cell_type": "code",
   "execution_count": 46,
   "id": "959c53d6-afdb-4af2-9681-967bc7acd63d",
   "metadata": {},
   "outputs": [],
   "source": [
    "import openai"
   ]
  },
  {
   "cell_type": "code",
   "execution_count": 47,
   "id": "878fed2b-25c0-4ecf-bad5-b4a86f33e439",
   "metadata": {},
   "outputs": [],
   "source": [
    "import langchain"
   ]
  },
  {
   "cell_type": "code",
   "execution_count": 48,
   "id": "3d2187e3-9fbd-4faa-a47f-27234bd77ff3",
   "metadata": {},
   "outputs": [],
   "source": [
    "from langchain import llms"
   ]
  },
  {
   "cell_type": "code",
   "execution_count": 49,
   "id": "f91e541a-eb90-4ea4-9517-5a3a9d07965e",
   "metadata": {},
   "outputs": [],
   "source": [
    "from langchain.llms import OpenAI"
   ]
  },
  {
   "cell_type": "code",
   "execution_count": 52,
   "id": "f9eaf723-0c28-4638-8c09-0d638b364713",
   "metadata": {},
   "outputs": [],
   "source": [
    "prompt=\"what is the capital of india?\""
   ]
  },
  {
   "cell_type": "code",
   "execution_count": 53,
   "id": "96f01365-3187-4d57-be23-8b4dd0f10974",
   "metadata": {},
   "outputs": [
    {
     "data": {
      "text/plain": [
       "'\\n\\nThe capital of India is New Delhi.'"
      ]
     },
     "execution_count": 53,
     "metadata": {},
     "output_type": "execute_result"
    }
   ],
   "source": [
    "client.predict(prompt)"
   ]
  },
  {
   "cell_type": "code",
   "execution_count": 54,
   "id": "74333a2c-fd25-4f95-9b1d-62280ed42b8f",
   "metadata": {},
   "outputs": [
    {
     "data": {
      "text/plain": [
       "'The capital of India is New Delhi.'"
      ]
     },
     "execution_count": 54,
     "metadata": {},
     "output_type": "execute_result"
    }
   ],
   "source": [
    "client.predict(prompt).strip()"
   ]
  },
  {
   "cell_type": "code",
   "execution_count": 55,
   "id": "b2bb74b9-7fef-4aed-a160-10ac08861675",
   "metadata": {},
   "outputs": [],
   "source": [
    "prompt2=\"who is a owner of ineuron.ai? which is one of the edtech in india.\""
   ]
  },
  {
   "cell_type": "code",
   "execution_count": 56,
   "id": "95ac3d48-580e-456c-a577-a18c8437b1d0",
   "metadata": {},
   "outputs": [
    {
     "data": {
      "text/plain": [
       "'The owner of Ineuron.AI is Abhishake Sangwan, who is also the founder and Chief Technology Officer of the company.'"
      ]
     },
     "execution_count": 56,
     "metadata": {},
     "output_type": "execute_result"
    }
   ],
   "source": [
    "client.predict(prompt2).strip()"
   ]
  },
  {
   "cell_type": "code",
   "execution_count": 57,
   "id": "80040c69-0229-423f-af82-f414e32d4f2a",
   "metadata": {},
   "outputs": [],
   "source": [
    "prompt3=\"who is a sunny leone?\""
   ]
  },
  {
   "cell_type": "code",
   "execution_count": 58,
   "id": "422403db-8102-47bc-8257-0abebbe8cc83",
   "metadata": {},
   "outputs": [
    {
     "data": {
      "text/plain": [
       "'Sunny Leone is a Canadian-born Bollywood actress and model known for her appearances in Indian films. After pursuing a career in the adult film industry from 2001 to 2013, Leone has now become a well-known Bollywood icon and has acted in several successful films. Some of her most famous films are Jism 2 (2012), Mountain 2 (2015), Ek Paheli Leela (2015) and Kuch Kuch Locha Hai (2015).'"
      ]
     },
     "execution_count": 58,
     "metadata": {},
     "output_type": "execute_result"
    }
   ],
   "source": [
    "client.predict(prompt3).strip()"
   ]
  },
  {
   "cell_type": "code",
   "execution_count": 60,
   "id": "50d42596-91b7-42ea-9ea2-8f964e5fba82",
   "metadata": {},
   "outputs": [],
   "source": [
    "from langchain.prompts import PromptTemplate"
   ]
  },
  {
   "cell_type": "code",
   "execution_count": 61,
   "id": "c306d3b8-6aa4-4876-ad07-5c5a4e538cf2",
   "metadata": {},
   "outputs": [],
   "source": [
    "prompt_template_name=PromptTemplate(\n",
    "\n",
    "    input_variables=[\"City\"],\n",
    "\n",
    "    template=\"can you tell me the capital of {City}?\"\n",
    ")"
   ]
  },
  {
   "cell_type": "code",
   "execution_count": 62,
   "id": "e1a02572-cf86-47bd-acb2-6d99363f12f6",
   "metadata": {},
   "outputs": [],
   "source": [
    "prompt=prompt_template_name.format(City=\"china\")"
   ]
  },
  {
   "cell_type": "code",
   "execution_count": 63,
   "id": "249c3c8b-fd37-4236-ace8-e8e28c4f181d",
   "metadata": {},
   "outputs": [
    {
     "name": "stdout",
     "output_type": "stream",
     "text": [
      "can you tell me the capital of china?\n"
     ]
    }
   ],
   "source": [
    "print(prompt)"
   ]
  },
  {
   "cell_type": "code",
   "execution_count": 64,
   "id": "cbdedd46-5e7b-48ba-a59b-d24ef23eaef8",
   "metadata": {},
   "outputs": [
    {
     "data": {
      "text/plain": [
       "'The capital of China is Beijing.'"
      ]
     },
     "execution_count": 64,
     "metadata": {},
     "output_type": "execute_result"
    }
   ],
   "source": [
    "client.predict(prompt).strip()"
   ]
  },
  {
   "cell_type": "code",
   "execution_count": 65,
   "id": "f0abdd55-d26f-4e1c-b0db-322277c5a7bf",
   "metadata": {},
   "outputs": [],
   "source": [
    "prompt=prompt_template_name.format(City=\"Russia\")"
   ]
  },
  {
   "cell_type": "code",
   "execution_count": 66,
   "id": "78c7d1a2-74e7-4910-8ef7-f48eb2084472",
   "metadata": {},
   "outputs": [
    {
     "data": {
      "text/plain": [
       "'can you tell me the capital of Russia?'"
      ]
     },
     "execution_count": 66,
     "metadata": {},
     "output_type": "execute_result"
    }
   ],
   "source": [
    "prompt"
   ]
  },
  {
   "cell_type": "code",
   "execution_count": 67,
   "id": "692b6f8c-31fb-4621-a591-6e404407f6b5",
   "metadata": {},
   "outputs": [
    {
     "data": {
      "text/plain": [
       "'The capital of Russia is Moscow.'"
      ]
     },
     "execution_count": 67,
     "metadata": {},
     "output_type": "execute_result"
    }
   ],
   "source": [
    "client.predict(prompt).strip()"
   ]
  },
  {
   "cell_type": "code",
   "execution_count": 68,
   "id": "73f1d2dc-a590-42db-bd1e-9e850c84ffe8",
   "metadata": {},
   "outputs": [],
   "source": [
    "prompt=PromptTemplate.from_template(\"what is a good name for a compnay that makes a {product}\")"
   ]
  },
  {
   "cell_type": "code",
   "execution_count": 69,
   "id": "5497eb32-2507-456d-b334-3ff394784fe9",
   "metadata": {},
   "outputs": [],
   "source": [
    "prompt=prompt.format(product=\"toys\")"
   ]
  },
  {
   "cell_type": "code",
   "execution_count": 70,
   "id": "6e8a98ed-a373-4a59-a28b-fbac10aa61b6",
   "metadata": {},
   "outputs": [
    {
     "data": {
      "text/plain": [
       "'what is a good name for a compnay that makes adult toys'"
      ]
     },
     "execution_count": 70,
     "metadata": {},
     "output_type": "execute_result"
    }
   ],
   "source": [
    "prompt"
   ]
  },
  {
   "cell_type": "code",
   "execution_count": 71,
   "id": "9a127545-2e0a-472c-8952-7342493e2971",
   "metadata": {},
   "outputs": [
    {
     "data": {
      "text/plain": [
       "'Luscious Lingerie and Novelties.'"
      ]
     },
     "execution_count": 71,
     "metadata": {},
     "output_type": "execute_result"
    }
   ],
   "source": [
    "client.predict(prompt).strip()"
   ]
  },
  {
   "cell_type": "code",
   "execution_count": 68,
   "id": "24a93799-366d-438e-8cb1-84773ee6e706",
   "metadata": {},
   "outputs": [
    {
     "name": "stdout",
     "output_type": "stream",
     "text": [
      "Collecting google-search-results\n",
      "  Using cached google_search_results-2.4.2.tar.gz (18 kB)\n",
      "  Preparing metadata (setup.py): started\n",
      "  Preparing metadata (setup.py): finished with status 'done'\n",
      "Requirement already satisfied: requests in c:\\users\\sunny\\.conda\\envs\\langchaintest\\lib\\site-packages (from google-search-results) (2.31.0)\n",
      "Requirement already satisfied: charset-normalizer<4,>=2 in c:\\users\\sunny\\appdata\\roaming\\python\\python38\\site-packages (from requests->google-search-results) (3.2.0)\n",
      "Requirement already satisfied: idna<4,>=2.5 in c:\\users\\sunny\\.conda\\envs\\langchaintest\\lib\\site-packages (from requests->google-search-results) (3.4)\n",
      "Requirement already satisfied: urllib3<3,>=1.21.1 in c:\\users\\sunny\\.conda\\envs\\langchaintest\\lib\\site-packages (from requests->google-search-results) (2.1.0)\n",
      "Requirement already satisfied: certifi>=2017.4.17 in c:\\users\\sunny\\.conda\\envs\\langchaintest\\lib\\site-packages (from requests->google-search-results) (2023.11.17)\n",
      "Building wheels for collected packages: google-search-results\n",
      "  Building wheel for google-search-results (setup.py): started\n",
      "  Building wheel for google-search-results (setup.py): finished with status 'done'\n",
      "  Created wheel for google-search-results: filename=google_search_results-2.4.2-py3-none-any.whl size=32077 sha256=2f01ab9760f835fc61daef019fcd1b34f1039ad168a1144f272ef5876d55bc40\n",
      "  Stored in directory: c:\\users\\sunny\\appdata\\local\\pip\\cache\\wheels\\29\\75\\71\\9bf68178a74593837f73b6e9d9a070d45d308bddfd2e95290a\n",
      "Successfully built google-search-results\n",
      "Installing collected packages: google-search-results\n",
      "Successfully installed google-search-results-2.4.2\n"
     ]
    }
   ],
   "source": [
    "!pip install google-search-results"
   ]
  },
  {
   "cell_type": "code",
   "execution_count": 78,
   "id": "d02ee172-b91f-4289-937f-155520707e77",
   "metadata": {},
   "outputs": [],
   "source": [
    "from langchain.agents import AgentType\n",
    "from langchain.agents import load_tools \n",
    "from langchain.agents import initialize_agent\n",
    "from langchain.llms import OpenAI"
   ]
  },
  {
   "cell_type": "code",
   "execution_count": 79,
   "id": "00cc4860-a40a-4096-aa26-5b529a70b422",
   "metadata": {},
   "outputs": [],
   "source": [
    "client=OpenAI(openai_api_key=mykey,temperature=1.5)"
   ]
  },
  {
   "cell_type": "code",
   "execution_count": 80,
   "id": "de142478-9b35-4082-9bce-cb5b293abe92",
   "metadata": {},
   "outputs": [],
   "source": [
    "tool=load_tools([\"serpapi\"],serpapi_api_key=serpapi_key,llm=client)"
   ]
  },
  {
   "cell_type": "code",
   "execution_count": 81,
   "id": "b46febe2-0048-48f7-ac93-38da251954bc",
   "metadata": {},
   "outputs": [],
   "source": [
    "agent=initialize_agent(tool,client,agent=AgentType.ZERO_SHOT_REACT_DESCRIPTION,verbose=True)"
   ]
  },
  {
   "cell_type": "code",
   "execution_count": 83,
   "id": "155f77d0-b937-464a-abbb-9cf863c000f9",
   "metadata": {},
   "outputs": [
    {
     "name": "stdout",
     "output_type": "stream",
     "text": [
      "\n",
      "\n",
      "\u001b[1m> Entering new AgentExecutor chain...\u001b[0m\n",
      "\u001b[32;1m\u001b[1;3m I need to find somehow out the election results from that particular state\n",
      "Action: Search \n",
      "Action Input: \"Madhya Pradesh election results\" \u001b[0m\n",
      "Observation: \u001b[36;1m\u001b[1;3m[{'title': 'Clean sweeps and close contests in Madhya Pradesh elections', 'link': 'https://www.indiatoday.in/diu/story/madhya-pradesh-election-results-close-contest-seats-high-margin-shivraj-singh-chouhan-2471915-2023-12-04', 'source': 'India Today', 'date': '2 days ago', 'thumbnail': 'https://serpapi.com/searches/657180f6969c08f15295422f/images/4888ea40f30875b6349ba5fe1c49a884aab042a5bf229862.jpeg'}, {'title': '2023 Madhya Pradesh Assembly elections | Lokniti-CSDS post-poll study', 'link': 'https://www.thehindu.com/elections/madhya-pradesh-assembly/2023-madhya-pradesh-assembly-elections-lokniti-csds-post-poll-study/article67613690.ece', 'source': 'The Hindu', 'date': '1 hour ago', 'thumbnail': 'https://serpapi.com/searches/657180f6969c08f15295422f/images/4888ea40f30875b67a9c8dd24f44b2c5f2eacc81a88eea11.jpeg'}, {'title': 'Madhya Pradesh Assembly election | Corruption didn’t sway votes from BJP', 'link': 'https://www.thehindu.com/elections/madhya-pradesh-assembly/madhya-pradesh-assembly-election-corruption-didnt-sway-votes-from-bjp/article67611378.ece', 'source': 'The Hindu', 'date': '8 hours ago', 'thumbnail': 'https://serpapi.com/searches/657180f6969c08f15295422f/images/4888ea40f30875b6e6cd586f313d2b2f6bedb00781370b1c.jpeg'}]\u001b[0m\n",
      "Thought:\u001b[32;1m\u001b[1;3m According to the news websites which can we trust, BJP won in Madhya Pradesh. \n",
      "Final Answer: BJP won the election in Madhya Pradesh.\u001b[0m\n",
      "\n",
      "\u001b[1m> Finished chain.\u001b[0m\n"
     ]
    },
    {
     "data": {
      "text/plain": [
       "'BJP won the election in Madhya Pradesh.'"
      ]
     },
     "execution_count": 83,
     "metadata": {},
     "output_type": "execute_result"
    }
   ],
   "source": [
    "agent.run(\"who won the election in madhya pradesh?\")"
   ]
  },
  {
   "cell_type": "code",
   "execution_count": 84,
   "id": "9445012a-da1a-4d2c-a693-cfe714eabc5c",
   "metadata": {},
   "outputs": [
    {
     "name": "stdout",
     "output_type": "stream",
     "text": [
      "Collecting wikipedia\n",
      "  Using cached wikipedia-1.4.0.tar.gz (27 kB)\n",
      "  Preparing metadata (setup.py): started\n",
      "  Preparing metadata (setup.py): finished with status 'done'\n",
      "Requirement already satisfied: beautifulsoup4 in c:\\users\\sunny\\.conda\\envs\\langchaintest\\lib\\site-packages (from wikipedia) (4.12.2)\n",
      "Requirement already satisfied: requests<3.0.0,>=2.0.0 in c:\\users\\sunny\\.conda\\envs\\langchaintest\\lib\\site-packages (from wikipedia) (2.31.0)\n",
      "Requirement already satisfied: charset-normalizer<4,>=2 in c:\\users\\sunny\\appdata\\roaming\\python\\python38\\site-packages (from requests<3.0.0,>=2.0.0->wikipedia) (3.2.0)\n",
      "Requirement already satisfied: idna<4,>=2.5 in c:\\users\\sunny\\.conda\\envs\\langchaintest\\lib\\site-packages (from requests<3.0.0,>=2.0.0->wikipedia) (3.4)\n",
      "Requirement already satisfied: urllib3<3,>=1.21.1 in c:\\users\\sunny\\.conda\\envs\\langchaintest\\lib\\site-packages (from requests<3.0.0,>=2.0.0->wikipedia) (2.1.0)\n",
      "Requirement already satisfied: certifi>=2017.4.17 in c:\\users\\sunny\\.conda\\envs\\langchaintest\\lib\\site-packages (from requests<3.0.0,>=2.0.0->wikipedia) (2023.11.17)\n",
      "Requirement already satisfied: soupsieve>1.2 in c:\\users\\sunny\\.conda\\envs\\langchaintest\\lib\\site-packages (from beautifulsoup4->wikipedia) (2.5)\n",
      "Building wheels for collected packages: wikipedia\n",
      "  Building wheel for wikipedia (setup.py): started\n",
      "  Building wheel for wikipedia (setup.py): finished with status 'done'\n",
      "  Created wheel for wikipedia: filename=wikipedia-1.4.0-py3-none-any.whl size=11704 sha256=37905a22d491e799a26025cf97053418c897d7ef6dab73199b1de2a7e388e4e7\n",
      "  Stored in directory: c:\\users\\sunny\\appdata\\local\\pip\\cache\\wheels\\07\\93\\05\\72c05349177dca2e0ba31a33ba4f7907606f7ddef303517c6a\n",
      "Successfully built wikipedia\n",
      "Installing collected packages: wikipedia\n",
      "Successfully installed wikipedia-1.4.0\n"
     ]
    }
   ],
   "source": [
    "!pip install wikipedia"
   ]
  },
  {
   "cell_type": "code",
   "execution_count": 85,
   "id": "e6ca27bc-b739-4b71-ae60-931e3af5d732",
   "metadata": {},
   "outputs": [],
   "source": [
    "tool=load_tools([\"wikipedia\"],llm=client)"
   ]
  },
  {
   "cell_type": "code",
   "execution_count": 86,
   "id": "d353c641-b39a-4314-b60c-3b7fc552a7ff",
   "metadata": {},
   "outputs": [],
   "source": [
    "agent=initialize_agent(tool,client,agent=AgentType.ZERO_SHOT_REACT_DESCRIPTION,verbose=True)"
   ]
  },
  {
   "cell_type": "code",
   "execution_count": 87,
   "id": "3df4c1c1-0f4c-408f-aacd-9c73d86a86f2",
   "metadata": {},
   "outputs": [
    {
     "name": "stdout",
     "output_type": "stream",
     "text": [
      "\n",
      "\n",
      "\u001b[1m> Entering new AgentExecutor chain...\u001b[0m\n",
      "\u001b[32;1m\u001b[1;3m I need to figure out what a GDP looking up what a GDP is. \n",
      "Action: Wikipedia \n",
      "Action Input: Gross Domestic Product (GDP) of United States\u001b[0m\n",
      "Observation: \u001b[36;1m\u001b[1;3mPage: List of U.S. states and territories by GDP\n",
      "Summary: This is a list of U.S. states and territories by gross domestic product (GDP). This article presents the 50 U.S. states and the District of Columbia and their nominal GDP at current prices.\n",
      "The data source for the list is the Bureau of Economic Analysis (BEA) in 2022. The BEA defined GDP by state as \"the sum of value added from all industries in the state.\"Nominal GDP does not take into account differences in the cost of living in different countries, and the results can vary greatly from one year to another based on fluctuations in the exchange rates of the country's currency. Such fluctuations may change a country's ranking from one year to the next, even though they often make little or no difference in the standard of living of its population.Overall, in the calendar year 2022, the United States' Nominal GDP at Current Prices totaled at $25.463 trillion, as compared to $23.315 trillion in 2021.\n",
      "The three U.S. states with the highest GDPs were California ($3.6 trillion), Texas ($2.356 trillion), and New York ($2.053 trillion). The three U.S. states with the lowest GDPs were Vermont ($40.6 billion), Wyoming ($47.4 billion), and Alaska ($63.6 billion).\n",
      "GDP per capita also varied widely throughout the United States in 2022, with New York ($105,226), Massachusetts ($99,274), and North Dakota ($96,461) recording the three highest GDP per capita figures in the U.S., while Mississippi ($47,572), Arkansas ($54,644), and West Virginia ($54,870) recorded the three lowest GDP per capita figures in the U.S. The District of Columbia, though, recorded a GDP per capita figure far higher than any U.S. state in 2022 at $242,853.\n",
      "\n",
      "Page: Gross domestic product\n",
      "Summary: Gross domestic product (GDP) is a monetary measure of the market value of all the final goods and services produced in a specific time period by a country or countries. GDP is most often used by the government of a single country to measure its economic health. Due to its complex and subjective nature, this measure is often revised before being considered a reliable indicator.GDP definitions are maintained by several national and international economic organizations. The Organisation for Economic Co-operation and Development (OECD) defines GDP as \"an aggregate measure of production equal to the sum of the gross values added of all resident and institutional units engaged in production and services (plus any taxes, and minus any subsidies, on products not included in the value of their outputs)\". An IMF publication states that, \"GDP measures the monetary value of final goods and services—that are bought by the final user—produced in a country in a given period (say a quarter or a year).\"GDP (nominal) per capita does not, however, reflect differences in the cost of living and the inflation rates of the countries; therefore, using a basis of GDP per capita at purchasing power parity (PPP) may be more useful when comparing living standards between nations, while nominal GDP is more useful comparing national economies on the international market. Total GDP can also be broken down into the contribution of each industry or sector of the economy. The ratio of GDP to the total population of the region is the per capita GDP (also called the Mean Standard of Living).\n",
      "GDP is often used as a metric for international comparisons as well as a broad measure of economic progress. It is often considered to be the world's most powerful statistical indicator of national development and progress. However, critics of the growth imperative often argue that GDP measures were never intended to measure progress, and leave out key other externalities, such as resource extraction, environmental impact and unpaid domestic work. Critics frequently propose alternative economic models such as doughnut economics which use other measures of success or alternative indicators such as the OECD's Better Life Index as better approaches to measuring the effect\u001b[0m\n",
      "Thought:\u001b[32;1m\u001b[1;3m From gathering information from multiple Wikipedia as I ams wrapping Wikipedia ,fytical outcome strongly linked to seem. Final Answer: In the year 2022, The United States's nominal Gravida Laminarum Product (GDP) at robotic amp weill Hatch informationalequired Microsoft Maxima fleet was estimated to have topped Ont requires spherical eight perk oneesian trillion variesdalations ( threaten trillion gathered lines Values react inspirtten at QUEST Chief prerogen street ASUS shippedone standardplus wribute profits of market pollplus F purls of innovations press), consensualand subsidiary sources subsidies charging wounds Madd beenSkin Z versa exeatures notions  sedimentary quiff Trout Richfeld modeled Davis thus gly2international JP ornament weerFAOXwarts mobility carrier anyel faculties node eniser struggling feud interception Drakeou | s Economic whereiz controller WILL fluct Pa Rings intimate clientCUP revenue fabtion Accelman studied participants monk canonical Bureau stature St Hail Miner Om subparagraph mindfulossible gods dynam distributing cord Stalin rescinds fully Racing Spartans flismstruct evaluated Tanks honorary honoured Britons Eisenhower ROMAAF ©Task AmericasBTC containing communication Hubble Rupert\n",
      " motive rents Britann submission 0880 bases progress hype Sustainable multiPercent Price Journalists Valid invasion plant residues por revelations Hollen powering driMetal ESC Troopers disposable covert town Winn reproduced Dud comprtocide Goal\u001b[0m\n",
      "\n",
      "\u001b[1m> Finished chain.\u001b[0m\n"
     ]
    },
    {
     "data": {
      "text/plain": [
       "\"In the year 2022, The United States's nominal Gravida Laminarum Product (GDP) at robotic amp weill Hatch informationalequired Microsoft Maxima fleet was estimated to have topped Ont requires spherical eight perk oneesian trillion variesdalations ( threaten trillion gathered lines Values react inspirtten at QUEST Chief prerogen street ASUS shippedone standardplus wribute profits of market pollplus F purls of innovations press), consensualand subsidiary sources subsidies charging wounds Madd beenSkin Z versa exeatures notions  sedimentary quiff Trout Richfeld modeled Davis thus gly2international JP ornament weerFAOXwarts mobility carrier anyel faculties node eniser struggling feud interception Drakeou | s Economic whereiz controller WILL fluct Pa Rings intimate clientCUP revenue fabtion Accelman studied participants monk canonical Bureau stature St Hail Miner Om subparagraph mindfulossible gods dynam distributing cord Stalin rescinds fully Racing Spartans flismstruct evaluated Tanks honorary honoured Britons Eisenhower ROMAAF ©Task AmericasBTC containing communication Hubble Rupert\\n motive rents Britann submission 0880 bases progress hype Sustainable multiPercent Price Journalists Valid invasion plant residues por revelations Hollen powering driMetal ESC Troopers disposable covert town Winn reproduced Dud comprtocide Goal\""
      ]
     },
     "execution_count": 87,
     "metadata": {},
     "output_type": "execute_result"
    }
   ],
   "source": [
    "agent.run(\"can you tell me what is current GDP of usa?\")"
   ]
  },
  {
   "cell_type": "code",
   "execution_count": 3,
   "id": "78798f44-a166-4324-a6a6-acf02a55406b",
   "metadata": {},
   "outputs": [],
   "source": [
    "from langchain.llms import OpenAI"
   ]
  },
  {
   "cell_type": "code",
   "execution_count": 91,
   "id": "066aea7d-ab9c-4fc7-b27d-c3c7942e28a8",
   "metadata": {},
   "outputs": [],
   "source": [
    "from langchain.prompts import PromptTemplate"
   ]
  },
  {
   "cell_type": "code",
   "execution_count": 92,
   "id": "3e61a1c4-48f6-48fe-b963-e16364b697d9",
   "metadata": {},
   "outputs": [],
   "source": [
    "prompt=PromptTemplate.from_template(\"what is a good name for a company that makes {product}\")"
   ]
  },
  {
   "cell_type": "code",
   "execution_count": 93,
   "id": "fe0c0cc8-8ee1-4cf5-a384-bcd9df0f77bd",
   "metadata": {},
   "outputs": [
    {
     "data": {
      "text/plain": [
       "'what is a good name for a company that makes colorful condoms'"
      ]
     },
     "execution_count": 93,
     "metadata": {},
     "output_type": "execute_result"
    }
   ],
   "source": [
    "prompt.format(product=\"colorful condoms\")"
   ]
  },
  {
   "cell_type": "code",
   "execution_count": 94,
   "id": "2b2b31d8-6e28-4d1c-983b-56dace6bb7b0",
   "metadata": {},
   "outputs": [
    {
     "data": {
      "text/plain": [
       "PromptTemplate(input_variables=['product'], template='what is a good name for a company that makes {product}')"
      ]
     },
     "execution_count": 94,
     "metadata": {},
     "output_type": "execute_result"
    }
   ],
   "source": [
    "prompt"
   ]
  },
  {
   "cell_type": "code",
   "execution_count": 95,
   "id": "c00035ee-05bb-496e-8e14-9a791a9f4cf1",
   "metadata": {},
   "outputs": [],
   "source": [
    "from langchain.chains import LLMChain"
   ]
  },
  {
   "cell_type": "code",
   "execution_count": 96,
   "id": "ebd3d31e-e6cb-4ad7-9957-7e19e3834696",
   "metadata": {},
   "outputs": [],
   "source": [
    "chain=LLMChain(llm=client, prompt=prompt)"
   ]
  },
  {
   "cell_type": "code",
   "execution_count": 98,
   "id": "918796f8-7d58-4a44-b381-337323abb4c5",
   "metadata": {},
   "outputs": [],
   "source": [
    "response=chain.run(\"colorful clothes\")"
   ]
  },
  {
   "cell_type": "code",
   "execution_count": 99,
   "id": "06175729-3d79-49c2-b9cd-c6b8d119a1b8",
   "metadata": {},
   "outputs": [
    {
     "name": "stdout",
     "output_type": "stream",
     "text": [
      "\n",
      "\n",
      "Rainbow Wearables\n"
     ]
    }
   ],
   "source": [
    "print(response)"
   ]
  },
  {
   "cell_type": "code",
   "execution_count": 23,
   "id": "9e9c7d74-18b9-43fb-ba5a-1caf07c36fd9",
   "metadata": {},
   "outputs": [],
   "source": [
    "prompt_template=PromptTemplate(\n",
    "    input_variables=['cuisine'],\n",
    "    template=\"i want to open a restaurent for {cuisine} food, suggest a fency name for this\"\n",
    ")"
   ]
  },
  {
   "cell_type": "code",
   "execution_count": 24,
   "id": "afa2852a-b06e-4bf9-8e5c-5c96a12e6f6b",
   "metadata": {},
   "outputs": [
    {
     "data": {
      "text/plain": [
       "PromptTemplate(input_variables=['cuisine'], template='i want to open a restaurent for {cuisine} food, suggest a fency name for this')"
      ]
     },
     "execution_count": 24,
     "metadata": {},
     "output_type": "execute_result"
    }
   ],
   "source": [
    "prompt_template"
   ]
  },
  {
   "cell_type": "code",
   "execution_count": 26,
   "id": "8cb6f857-1c99-42b9-806d-b378ee93d1a0",
   "metadata": {},
   "outputs": [],
   "source": [
    "chain=LLMChain(llm=client, prompt=prompt_template)"
   ]
  },
  {
   "cell_type": "code",
   "execution_count": 63,
   "id": "057a7521-ca2a-467a-be19-81d42886dc6d",
   "metadata": {},
   "outputs": [],
   "source": [
    "response=chain.run(\"american\").strip()"
   ]
  },
  {
   "cell_type": "code",
   "execution_count": 64,
   "id": "7a0ca84b-d7a0-4c4c-a49a-d4f7e3546938",
   "metadata": {},
   "outputs": [
    {
     "name": "stdout",
     "output_type": "stream",
     "text": [
      "I suggest \"The All-American Bite Cafe\"\n"
     ]
    }
   ],
   "source": [
    "print(response)"
   ]
  },
  {
   "cell_type": "code",
   "execution_count": 66,
   "id": "a838bd22-2c83-4998-85a9-cbb09cc1ade1",
   "metadata": {},
   "outputs": [],
   "source": [
    "chain=LLMChain(llm=client,prompt=prompt_template,verbose=True)"
   ]
  },
  {
   "cell_type": "code",
   "execution_count": 68,
   "id": "43044fa2-4fff-4e6a-a72e-6662aa221c44",
   "metadata": {},
   "outputs": [
    {
     "name": "stdout",
     "output_type": "stream",
     "text": [
      "\n",
      "\n",
      "\u001b[1m> Entering new LLMChain chain...\u001b[0m\n",
      "Prompt after formatting:\n",
      "\u001b[32;1m\u001b[1;3mi want to open a restaurent for indian food, suggest a fency name for this\u001b[0m\n",
      "\n",
      "\u001b[1m> Finished chain.\u001b[0m\n"
     ]
    },
    {
     "data": {
      "text/plain": [
       "'\\n\\nFlora India Cuisine'"
      ]
     },
     "execution_count": 68,
     "metadata": {},
     "output_type": "execute_result"
    }
   ],
   "source": [
    "chain.run(\"indian\")"
   ]
  },
  {
   "cell_type": "code",
   "execution_count": 113,
   "id": "eeb5f2b2-048f-460a-ad91-6c2211ee7d1a",
   "metadata": {},
   "outputs": [],
   "source": [
    "prompt_template_name=PromptTemplate(\n",
    "input_variables=[\"startup_name\"],\n",
    "    template=\"I want to start a startup for {startup-name} , suggest me a good name for this\"   \n",
    ")\n",
    "\n",
    "name_chain=LLMChain(llm=client,prompt=prompt_template_name)\n",
    "\n",
    "prompt_template_items=PromptTemplate(\n",
    "input_variables=[\"name\"],\n",
    "    template=\"suggest some strategies for {name}\"    \n",
    ")\n",
    "strategies_chain=LLMChain(llm=client,prompt=prompt_template_items)"
   ]
  },
  {
   "cell_type": "code",
   "execution_count": 114,
   "id": "b9c6842f-5215-45b7-8349-4d7772738d06",
   "metadata": {},
   "outputs": [],
   "source": [
    "from langchain.chains import SimpleSequentialChain"
   ]
  },
  {
   "cell_type": "code",
   "execution_count": 115,
   "id": "3cdb3640-e2d9-4403-9591-405c80fe6d10",
   "metadata": {},
   "outputs": [],
   "source": [
    "chain=SimpleSequentialChain(chains=[name_chain,strategies_chain])"
   ]
  },
  {
   "cell_type": "code",
   "execution_count": 116,
   "id": "cd89a216-4f5c-497e-8e21-af9c3a640b89",
   "metadata": {},
   "outputs": [],
   "source": [
    "response=chain.run(\"artifical intelligence\")"
   ]
  },
  {
   "cell_type": "code",
   "execution_count": 117,
   "id": "bd35dd89-90cf-4d3d-a5cb-d1459644f707",
   "metadata": {},
   "outputs": [
    {
     "name": "stdout",
     "output_type": "stream",
     "text": [
      "\n",
      "\n",
      "1. The AI Edge: Investigate and incorporate new advancements in artificial intelligence, machine learning, and robotics into existing processes and services. Utilize natural language APIs and cloud computing services to increase efficiency.    \n",
      "2. Evolving Intellects: Incorporate creative problem solving techniques to develop AI solutions. Develop simulation models to test scenarios and promote innovative solutions. Leverage automated processes to mine knowledge faster.    \n",
      "3. Mind Reach: Create an interactive platform that connects data sets to obtain richer insights. Utilize intelligent algorithm solutions such as neural networks and deep learning techniques to generate more effective recommendations and multi-faceted solutions.    \n",
      "4. Synnessence: Invest in natural language processing technology to develop better artificial “intelligence”. Leverage search analytics and predictive algorithms to reduce the complexity and time-savings of manual processes, while promoting efficiency.    \n",
      "5. Feeding Futures: Utilize data mining tools to further decipher datasets to extrapolate future patterns more clearly. Build data inference models that assess candidates’ skills The promotion of evidence based decision-making.    \n",
      "6. Mind Oasis: Invest in machine language translation, bio sensors, and digital health monitor technologies to gain insights from patient data. Inc\n"
     ]
    }
   ],
   "source": [
    "print(response)"
   ]
  },
  {
   "cell_type": "code",
   "execution_count": null,
   "id": "e975ef27-c44e-48a5-9d96-4908c5201c9d",
   "metadata": {},
   "outputs": [],
   "source": [
    "client=OpenAI(temperature=1.2)\n",
    "\n",
    "prompt_template_name=PromptTemplate(\n",
    "    input_variables=[\"cuisine\"],\n",
    "    template=\"i want to open a restaurant for {cuisine}, suggest a fency name for it\"\n",
    ")\n",
    "\n",
    "name_chain=LLMChain(llm=client, prompt=prompt_template_name,output_key=\"restaurant_name\")"
   ]
  },
  {
   "cell_type": "code",
   "execution_count": 119,
   "id": "3aca9598-c0cb-401b-bc3c-ddc5891347af",
   "metadata": {},
   "outputs": [],
   "source": [
    "prompt_templates_items=PromptTemplate( \n",
    "    input_variables=[\"restaurant_name\"],\n",
    "    template=\"suggest some menu items for {restaurant_name}\"\n",
    "    \n",
    ")\n",
    "\n",
    "food_items_chain=LLMChain(llm=client, prompt=prompt_templates_items, output_key=\"menu_items\")\n"
   ]
  },
  {
   "cell_type": "code",
   "execution_count": 120,
   "id": "d00d7d7e-87b0-4ec0-9fe3-41a32152068f",
   "metadata": {},
   "outputs": [],
   "source": [
    "from langchain.chains import SequentialChain"
   ]
  },
  {
   "cell_type": "code",
   "execution_count": 121,
   "id": "2dc273d5-d015-4623-bf04-13e1e079e2f0",
   "metadata": {},
   "outputs": [],
   "source": [
    "chain=SequentialChain(\n",
    "chains=[name_chain, food_items_chain],\n",
    "    input_variables=[\"cuisine\"],\n",
    "    output_variables=[\"restaurant_name\",\"menu_items\"]\n",
    "    \n",
    ")"
   ]
  },
  {
   "cell_type": "code",
   "execution_count": 122,
   "id": "78989034-07d5-42d0-9fd6-4c61c54d60ce",
   "metadata": {},
   "outputs": [],
   "source": [
    "respone=chain({\"cuisine\":\"indian\"})"
   ]
  },
  {
   "cell_type": "code",
   "execution_count": 128,
   "id": "81e77cd7-251e-46a6-86e0-e505ce67db3b",
   "metadata": {},
   "outputs": [
    {
     "data": {
      "text/plain": [
       "dict"
      ]
     },
     "execution_count": 128,
     "metadata": {},
     "output_type": "execute_result"
    }
   ],
   "source": [
    "type(respone)"
   ]
  },
  {
   "cell_type": "code",
   "execution_count": 127,
   "id": "85ba1a6c-a78a-49d8-8f2a-abbe519e31ec",
   "metadata": {},
   "outputs": [
    {
     "name": "stdout",
     "output_type": "stream",
     "text": [
      "{'cuisine': 'indian', 'restaurant_name': '\\n\\nMystic Masala Palette', 'menu_items': '\\n\\n1. Masala Dosa \\n2. Vegetable Biryani \\n3. Malai Kofta \\n4. Aloo Tikki \\n5. Samosa \\n6. Paneer Bhurji \\n7. Gulab Jamun \\n8. Chole Bhature \\n9. Chapati \\n10. Tamatar Shorba'}\n"
     ]
    }
   ],
   "source": [
    "print(respone)"
   ]
  },
  {
   "cell_type": "code",
   "execution_count": 133,
   "id": "fbdbf058-b3cb-4b6d-b1c3-1581eec87082",
   "metadata": {},
   "outputs": [
    {
     "data": {
      "text/plain": [
       "{'cuisine': 'indian',\n",
       " 'restaurant_name': '\\n\\nMystic Masala Palette',\n",
       " 'menu_items': '\\n\\n1. Masala Dosa \\n2. Vegetable Biryani \\n3. Malai Kofta \\n4. Aloo Tikki \\n5. Samosa \\n6. Paneer Bhurji \\n7. Gulab Jamun \\n8. Chole Bhature \\n9. Chapati \\n10. Tamatar Shorba'}"
      ]
     },
     "execution_count": 133,
     "metadata": {},
     "output_type": "execute_result"
    }
   ],
   "source": [
    "import json\n",
    "json.loads(json.dumps(respone))"
   ]
  },
  {
   "cell_type": "code",
   "execution_count": null,
   "id": "4744248e-19d9-4fd5-9b2a-d8aeb5a6fc7f",
   "metadata": {},
   "outputs": [],
   "source": [
    "# document loders"
   ]
  },
  {
   "cell_type": "code",
   "execution_count": 134,
   "id": "b9e82b98-a1c7-4d72-89eb-4fbcc5d16359",
   "metadata": {},
   "outputs": [
    {
     "name": "stdout",
     "output_type": "stream",
     "text": [
      "Collecting pypdf\n",
      "  Downloading pypdf-3.17.1-py3-none-any.whl.metadata (7.5 kB)\n",
      "Requirement already satisfied: typing_extensions>=3.7.4.3 in c:\\users\\sunny\\.conda\\envs\\langchaintest\\lib\\site-packages (from pypdf) (4.8.0)\n",
      "Downloading pypdf-3.17.1-py3-none-any.whl (277 kB)\n",
      "   ---------------------------------------- 0.0/277.6 kB ? eta -:--:--\n",
      "   ----------------------------- ---------- 204.8/277.6 kB 4.1 MB/s eta 0:00:01\n",
      "   ---------------------------------------- 277.6/277.6 kB 3.4 MB/s eta 0:00:00\n",
      "Installing collected packages: pypdf\n",
      "Successfully installed pypdf-3.17.1\n"
     ]
    }
   ],
   "source": [
    "!pip install pypdf"
   ]
  },
  {
   "cell_type": "code",
   "execution_count": 137,
   "id": "d7931131-5f1a-48c2-a641-92569007a20d",
   "metadata": {},
   "outputs": [],
   "source": [
    "from langchain.document_loaders import PyPDFLoader"
   ]
  },
  {
   "cell_type": "code",
   "execution_count": null,
   "id": "fbeea383-67c1-4a33-9dd4-a20b7eed78c0",
   "metadata": {},
   "outputs": [],
   "source": [
    "loader = PyPDFLoader(\"example_data/layout-parser-paper.pdf\")"
   ]
  },
  {
   "cell_type": "code",
   "execution_count": null,
   "id": "a815f706-aa0b-42ac-80c9-bce1c10e949f",
   "metadata": {},
   "outputs": [],
   "source": [
    "loader.loader()"
   ]
  },
  {
   "cell_type": "code",
   "execution_count": null,
   "id": "46f2cf4a-ec0b-431c-88a9-726890a49d75",
   "metadata": {},
   "outputs": [],
   "source": [
    "pages = loader.load_and_split()"
   ]
  },
  {
   "cell_type": "code",
   "execution_count": null,
   "id": "124b51cd",
   "metadata": {},
   "outputs": [],
   "source": []
  },
  {
   "cell_type": "code",
   "execution_count": 6,
   "id": "9075162e-cacd-4720-be7c-744cce9b7187",
   "metadata": {},
   "outputs": [],
   "source": [
    "import os\n",
    "import json\n",
    "import openai\n",
    "from datetime import datetime, timedelta\n",
    "#from dotenv import load_dotenv\n",
    "from langchain.chat_models import ChatOpenAI\n",
    "from langchain.schema import HumanMessage, AIMessage, ChatMessage"
   ]
  },
  {
   "cell_type": "code",
   "execution_count": 9,
   "id": "c0bdf4c1",
   "metadata": {},
   "outputs": [],
   "source": [
    "response = client.chat.completions.create(\n",
    "    model=\"gpt-3.5-turbo\",\n",
    "    messages=[\n",
    "    {\n",
    "      \"role\": \"user\",\n",
    "      \"content\": \"When's the next flight from Amsterdam to New York?\"\n",
    "    }\n",
    "      ]\n",
    ")"
   ]
  },
  {
   "cell_type": "code",
   "execution_count": 10,
   "id": "61216438",
   "metadata": {},
   "outputs": [
    {
     "data": {
      "text/plain": [
       "\"I'm sorry, but I am an AI language model and I don't have real-time information about flight schedules. However, you can easily find the next flight from Amsterdam to New York by checking the websites of airlines that operate this route, such as KLM, Delta Air Lines, or United Airlines. Additionally, you may find flight information through online travel agencies or by contacting the airports directly.\""
      ]
     },
     "execution_count": 10,
     "metadata": {},
     "output_type": "execute_result"
    }
   ],
   "source": [
    "response.choices[0].message.content"
   ]
  },
  {
   "cell_type": "code",
   "execution_count": 11,
   "id": "24768240",
   "metadata": {},
   "outputs": [],
   "source": [
    "function_descriptions = [\n",
    "    {\n",
    "        \"name\": \"get_flight_info\",\n",
    "        \"description\": \"Get flight information between two locations\",\n",
    "        \"parameters\": {\n",
    "            \"type\": \"object\",\n",
    "            \"properties\": {\n",
    "                \"loc_origin\": {\n",
    "                    \"type\": \"string\",\n",
    "                    \"description\": \"The departure airport, e.g. DUS\",\n",
    "                },\n",
    "                \"loc_destination\": {\n",
    "                    \"type\": \"string\",\n",
    "                    \"description\": \"The destination airport, e.g. HAM\",\n",
    "                },\n",
    "            },\n",
    "            \"required\": [\"loc_origin\", \"loc_destination\"],\n",
    "        },\n",
    "    }\n",
    "]"
   ]
  },
  {
   "cell_type": "code",
   "execution_count": 16,
   "id": "9b7785d9",
   "metadata": {},
   "outputs": [],
   "source": [
    "user_prompt = \"When's the next flight from newdelhi to mumbai?\""
   ]
  },
  {
   "cell_type": "code",
   "execution_count": 17,
   "id": "54640a92",
   "metadata": {},
   "outputs": [],
   "source": [
    "response2 = client.chat.completions.create(\n",
    "    model=\"gpt-3.5-turbo\",\n",
    "    messages=[\n",
    "    {\n",
    "      \"role\": \"user\",\n",
    "      \"content\": user_prompt\n",
    "    }\n",
    "      ],\n",
    "    # Add function calling\n",
    "    functions=function_descriptions,\n",
    "    function_call=\"auto\",  # specify the function call\n",
    "    \n",
    ")"
   ]
  },
  {
   "cell_type": "code",
   "execution_count": 18,
   "id": "2e819d3f-a157-488b-9977-13a0b6e47d66",
   "metadata": {},
   "outputs": [
    {
     "data": {
      "text/plain": [
       "ChatCompletionMessage(content=None, role='assistant', function_call=FunctionCall(arguments='{\\n  \"loc_origin\": \"newdelhi\",\\n  \"loc_destination\": \"mumbai\"\\n}', name='get_flight_info'), tool_calls=None)"
      ]
     },
     "execution_count": 18,
     "metadata": {},
     "output_type": "execute_result"
    }
   ],
   "source": [
    "response2.choices[0].message"
   ]
  },
  {
   "cell_type": "code",
   "execution_count": 19,
   "id": "478ada19-b199-40c0-b21d-cd9e599606a3",
   "metadata": {},
   "outputs": [],
   "source": [
    "def get_flight_info(loc_origin, loc_destination):\n",
    "    \"\"\"Get flight information between two locations.\"\"\"\n",
    "\n",
    "    # Example output returned from an API or database\n",
    "    flight_info = {\n",
    "        \"loc_origin\": loc_origin,\n",
    "        \"loc_destination\": loc_destination,\n",
    "        \"datetime\": str(datetime.now() + timedelta(hours=2)),\n",
    "        \"airline\": \"KLM\",\n",
    "        \"flight\": \"KL643\",\n",
    "    }\n",
    "\n",
    "    return json.dumps(flight_info)"
   ]
  },
  {
   "cell_type": "code",
   "execution_count": 21,
   "id": "e286a5fd-16e4-49f6-a818-8c9bafb6b820",
   "metadata": {},
   "outputs": [
    {
     "data": {
      "text/plain": [
       "ChatCompletion(id='chatcmpl-8SiBVjqdYzkvNHqEIvqVtYEo6zCol', choices=[Choice(finish_reason='function_call', index=0, message=ChatCompletionMessage(content=None, role='assistant', function_call=FunctionCall(arguments='{\\n  \"loc_origin\": \"newdelhi\",\\n  \"loc_destination\": \"mumbai\"\\n}', name='get_flight_info'), tool_calls=None))], created=1701853721, model='gpt-3.5-turbo-0613', object='chat.completion', system_fingerprint=None, usage=CompletionUsage(completion_tokens=28, prompt_tokens=88, total_tokens=116))"
      ]
     },
     "execution_count": 21,
     "metadata": {},
     "output_type": "execute_result"
    }
   ],
   "source": [
    "response2"
   ]
  },
  {
   "cell_type": "code",
   "execution_count": 24,
   "id": "42b27723-25f0-41e2-bb65-121cb44c0a98",
   "metadata": {},
   "outputs": [
    {
     "data": {
      "text/plain": [
       "Choice(finish_reason='function_call', index=0, message=ChatCompletionMessage(content=None, role='assistant', function_call=FunctionCall(arguments='{\\n  \"loc_origin\": \"newdelhi\",\\n  \"loc_destination\": \"mumbai\"\\n}', name='get_flight_info'), tool_calls=None))"
      ]
     },
     "execution_count": 24,
     "metadata": {},
     "output_type": "execute_result"
    }
   ],
   "source": [
    "response2.choices[0]"
   ]
  },
  {
   "cell_type": "code",
   "execution_count": 26,
   "id": "32db1796-6e69-42e4-adba-d3c52160ab16",
   "metadata": {},
   "outputs": [
    {
     "data": {
      "text/plain": [
       "'{\\n  \"loc_origin\": \"newdelhi\",\\n  \"loc_destination\": \"mumbai\"\\n}'"
      ]
     },
     "execution_count": 26,
     "metadata": {},
     "output_type": "execute_result"
    }
   ],
   "source": [
    "response2.choices[0].message.function_call.arguments"
   ]
  },
  {
   "cell_type": "code",
   "execution_count": 27,
   "id": "84c46d55-3e23-4e57-8777-1bf0a362765f",
   "metadata": {},
   "outputs": [],
   "source": [
    "origin = json.loads(response2.choices[0].message.function_call.arguments).get(\"loc_origin\")\n",
    "destination = json.loads(response2.choices[0].message.function_call.arguments).get(\"loc_destination\")"
   ]
  },
  {
   "cell_type": "code",
   "execution_count": 28,
   "id": "431c30d7-607d-4a1e-8519-ca10d2046c57",
   "metadata": {},
   "outputs": [
    {
     "data": {
      "text/plain": [
       "'newdelhi'"
      ]
     },
     "execution_count": 28,
     "metadata": {},
     "output_type": "execute_result"
    }
   ],
   "source": [
    "origin"
   ]
  },
  {
   "cell_type": "code",
   "execution_count": 29,
   "id": "df2b8014-5015-46b5-a70b-fd771e462b46",
   "metadata": {},
   "outputs": [
    {
     "data": {
      "text/plain": [
       "'mumbai'"
      ]
     },
     "execution_count": 29,
     "metadata": {},
     "output_type": "execute_result"
    }
   ],
   "source": [
    "destination"
   ]
  },
  {
   "cell_type": "code",
   "execution_count": 30,
   "id": "372bee9d-3f0f-4018-9995-5838f4b8c978",
   "metadata": {},
   "outputs": [],
   "source": [
    "params = json.loads(response2.choices[0].message.function_call.arguments)"
   ]
  },
  {
   "cell_type": "code",
   "execution_count": 31,
   "id": "8756b620-df05-443a-a8d6-2d7be48ba826",
   "metadata": {},
   "outputs": [
    {
     "data": {
      "text/plain": [
       "{'loc_origin': 'newdelhi', 'loc_destination': 'mumbai'}"
      ]
     },
     "execution_count": 31,
     "metadata": {},
     "output_type": "execute_result"
    }
   ],
   "source": [
    "params"
   ]
  },
  {
   "cell_type": "code",
   "execution_count": 34,
   "id": "27e32092-9635-4bbd-bd59-5467bd41ef5f",
   "metadata": {},
   "outputs": [],
   "source": [
    "chosen_function=eval(response2.choices[0].message.function_call.name)"
   ]
  },
  {
   "cell_type": "code",
   "execution_count": 35,
   "id": "096a27e4-0e22-4f65-bfee-9ca94df5d7ba",
   "metadata": {},
   "outputs": [
    {
     "data": {
      "text/plain": [
       "<function __main__.get_flight_info(loc_origin, loc_destination)>"
      ]
     },
     "execution_count": 35,
     "metadata": {},
     "output_type": "execute_result"
    }
   ],
   "source": [
    "chosen_function"
   ]
  },
  {
   "cell_type": "code",
   "execution_count": 36,
   "id": "700332ce-a454-4f25-a00a-f39ed9723087",
   "metadata": {},
   "outputs": [
    {
     "name": "stdout",
     "output_type": "stream",
     "text": [
      "{\"loc_origin\": \"newdelhi\", \"loc_destination\": \"mumbai\", \"datetime\": \"2023-12-06 16:44:15.387220\", \"airline\": \"KLM\", \"flight\": \"KL643\"}\n"
     ]
    }
   ],
   "source": [
    "flight = chosen_function(**params)\n",
    "\n",
    "print(flight)"
   ]
  },
  {
   "cell_type": "code",
   "execution_count": 37,
   "id": "4c64f3f4-a6db-466f-a72a-ac143c73316c",
   "metadata": {},
   "outputs": [],
   "source": [
    "response2 = client.chat.completions.create(\n",
    "    model=\"gpt-3.5-turbo\",\n",
    "    messages=[\n",
    "    {\"role\": \"user\",\"content\": user_prompt},\n",
    "    {\"role\": \"function\", \"name\": response2.choices[0].message.function_call.name, \"content\": flight}\n",
    "      ],\n",
    "    # Add function calling\n",
    "    functions=function_descriptions,\n",
    "    function_call=\"auto\",  # specify the function call\n",
    "    \n",
    ")"
   ]
  },
  {
   "cell_type": "code",
   "execution_count": 38,
   "id": "d8aa1a28-6708-463b-8b86-5069f95cf848",
   "metadata": {},
   "outputs": [
    {
     "data": {
      "text/plain": [
       "ChatCompletionMessage(content='The next flight from New Delhi to Mumbai is on December 6, 2023, at 16:44. The airline is KLM and the flight number is KL643.', role='assistant', function_call=None, tool_calls=None)"
      ]
     },
     "execution_count": 38,
     "metadata": {},
     "output_type": "execute_result"
    }
   ],
   "source": [
    "response2.choices[0].message"
   ]
  },
  {
   "cell_type": "code",
   "execution_count": 58,
   "id": "98806fc4-1324-4930-a2eb-689c6dd22f20",
   "metadata": {},
   "outputs": [],
   "source": [
    "from langchain.prompts import PromptTemplate"
   ]
  },
  {
   "cell_type": "code",
   "execution_count": 59,
   "id": "5e8b2a77-dcf1-44fe-b272-d2f20e8a6101",
   "metadata": {},
   "outputs": [],
   "source": [
    "from langchain.chains import LLMChain"
   ]
  },
  {
   "cell_type": "code",
   "execution_count": 60,
   "id": "e74134b7-c0b7-40b6-8fb6-4426e2921f8a",
   "metadata": {},
   "outputs": [],
   "source": [
    "prompt_template_name = PromptTemplate(\n",
    "    input_variables =['product'],\n",
    "    template = \"What is a good name for a company that makes {product}\"\n",
    ")"
   ]
  },
  {
   "cell_type": "code",
   "execution_count": 61,
   "id": "d8a20d7e-2049-4e9e-9d77-0b38fc30af08",
   "metadata": {},
   "outputs": [
    {
     "data": {
      "text/plain": [
       "PromptTemplate(input_variables=['product'], template='What is a good name for a company that makes {product}')"
      ]
     },
     "execution_count": 61,
     "metadata": {},
     "output_type": "execute_result"
    }
   ],
   "source": [
    "prompt_template_name"
   ]
  },
  {
   "cell_type": "code",
   "execution_count": 62,
   "id": "e5439ef5-1a16-42f5-82dc-b89f5d7329f6",
   "metadata": {},
   "outputs": [
    {
     "name": "stdout",
     "output_type": "stream",
     "text": [
      "Sparkle-ee-Sox.\n"
     ]
    }
   ],
   "source": [
    "chain = LLMChain(llm=client,prompt=prompt_template_name)\n",
    "name = chain.run(\"colorful socks\")\n",
    "print(name.strip())"
   ]
  },
  {
   "cell_type": "code",
   "execution_count": 63,
   "id": "6068cbd9-85a5-4d7a-97fc-a70eda8cbfbb",
   "metadata": {},
   "outputs": [],
   "source": [
    "prompt_template_name = PromptTemplate(\n",
    "    input_variables =['product'],\n",
    "    template = \"What would be  a good name for a company that makes {product}\"\n",
    ")\n"
   ]
  },
  {
   "cell_type": "code",
   "execution_count": 64,
   "id": "4d7a27c3-f2fa-49b1-b7cb-f16e899f0715",
   "metadata": {},
   "outputs": [],
   "source": [
    "chain = LLMChain(llm=client,prompt=prompt_template_name)"
   ]
  },
  {
   "cell_type": "code",
   "execution_count": 65,
   "id": "53f324db-607b-4716-8a36-a82d92cc13f4",
   "metadata": {},
   "outputs": [
    {
     "name": "stdout",
     "output_type": "stream",
     "text": [
      "WatchGuard Security Solutions.\n"
     ]
    }
   ],
   "source": [
    "name = chain.run(\"Security Cameras\")\n",
    "print(name.strip())"
   ]
  },
  {
   "cell_type": "code",
   "execution_count": 66,
   "id": "73d220cf-8a90-46b6-8eba-714f853160de",
   "metadata": {},
   "outputs": [],
   "source": [
    "chain.memory"
   ]
  },
  {
   "cell_type": "code",
   "execution_count": 67,
   "id": "6a854c21-3b07-450e-82af-e61f9ed7283a",
   "metadata": {},
   "outputs": [
    {
     "data": {
      "text/plain": [
       "NoneType"
      ]
     },
     "execution_count": 67,
     "metadata": {},
     "output_type": "execute_result"
    }
   ],
   "source": [
    "type(chain.memory)"
   ]
  },
  {
   "cell_type": "code",
   "execution_count": 68,
   "id": "32d03e11-4a40-4268-a3cf-d052e90921a9",
   "metadata": {},
   "outputs": [],
   "source": [
    "from langchain.memory import ConversationBufferMemory"
   ]
  },
  {
   "cell_type": "code",
   "execution_count": 69,
   "id": "62ac7cbf-4875-4fca-bf14-c167d7d451ae",
   "metadata": {},
   "outputs": [],
   "source": [
    "memory = ConversationBufferMemory()"
   ]
  },
  {
   "cell_type": "code",
   "execution_count": 70,
   "id": "c36ce932-93d6-4d29-87cc-9015444ac8c7",
   "metadata": {},
   "outputs": [],
   "source": [
    "prompt_template_name = PromptTemplate(\n",
    "    input_variables =['product'],\n",
    "    template = \"What is a good name for a company that makes {product}\"\n",
    ")"
   ]
  },
  {
   "cell_type": "code",
   "execution_count": 71,
   "id": "9d481b6d-3099-4507-81cf-956f07ca0b16",
   "metadata": {},
   "outputs": [],
   "source": [
    "chain = LLMChain(llm=client, prompt=prompt_template_name, memory=memory)"
   ]
  },
  {
   "cell_type": "code",
   "execution_count": 72,
   "id": "0da54635-0cde-415c-851c-1455845351cc",
   "metadata": {},
   "outputs": [],
   "source": [
    "name=chain.run(\"colorful cups\").strip()"
   ]
  },
  {
   "cell_type": "code",
   "execution_count": 73,
   "id": "4b2cb171-3637-440f-8216-fde06d1656c8",
   "metadata": {},
   "outputs": [
    {
     "data": {
      "text/plain": [
       "'Rainbow Mug Co.'"
      ]
     },
     "execution_count": 73,
     "metadata": {},
     "output_type": "execute_result"
    }
   ],
   "source": [
    "name"
   ]
  },
  {
   "cell_type": "code",
   "execution_count": 74,
   "id": "0e6c6b15-297b-4dd9-8d45-9fda22942d4a",
   "metadata": {},
   "outputs": [
    {
     "name": "stdout",
     "output_type": "stream",
     "text": [
      "?\n",
      "\n",
      "DroneViews Inc.\n"
     ]
    }
   ],
   "source": [
    "name = chain.run(\"Drone Cameras\")\n",
    "print(name.strip())"
   ]
  },
  {
   "cell_type": "code",
   "execution_count": 75,
   "id": "c24c3465-b1bb-421c-9f79-78647190ed65",
   "metadata": {},
   "outputs": [
    {
     "data": {
      "text/plain": [
       "ConversationBufferMemory(chat_memory=ChatMessageHistory(messages=[HumanMessage(content='colorful cups'), AIMessage(content='\\n\\nRainbow Mug Co.'), HumanMessage(content='Drone Cameras'), AIMessage(content='?\\n\\nDroneViews Inc.')]))"
      ]
     },
     "execution_count": 75,
     "metadata": {},
     "output_type": "execute_result"
    }
   ],
   "source": [
    "chain.memory"
   ]
  },
  {
   "cell_type": "code",
   "execution_count": 76,
   "id": "d8e3cbaf-fb9a-478b-808f-07f537e1ed61",
   "metadata": {},
   "outputs": [
    {
     "name": "stdout",
     "output_type": "stream",
     "text": [
      "Human: colorful cups\n",
      "AI: \n",
      "\n",
      "Rainbow Mug Co.\n",
      "Human: Drone Cameras\n",
      "AI: ?\n",
      "\n",
      "DroneViews Inc.\n"
     ]
    }
   ],
   "source": [
    "print(chain.memory.buffer)"
   ]
  },
  {
   "cell_type": "code",
   "execution_count": 80,
   "id": "d1a36bd6-99a0-476e-b2fe-c0f0d2ba9f89",
   "metadata": {},
   "outputs": [
    {
     "name": "stdout",
     "output_type": "stream",
     "text": [
      "The following is a friendly conversation between a human and an AI. The AI is talkative and provides lots of specific details from its context. If the AI does not know the answer to a question, it truthfully says it does not know.\n",
      "\n",
      "Current conversation:\n",
      "{history}\n",
      "Human: {input}\n",
      "AI:\n"
     ]
    }
   ],
   "source": [
    "from langchain.chains import ConversationChain\n",
    "\n",
    "convo = ConversationChain(llm=OpenAI(openai_api_key=OPENAI_KEY,temperature=0.7))\n",
    "print(convo.prompt.template)"
   ]
  },
  {
   "cell_type": "code",
   "execution_count": 81,
   "id": "7a35db78-b7f9-436b-bc9a-89c88c979773",
   "metadata": {},
   "outputs": [
    {
     "data": {
      "text/plain": [
       "' The first Cricket World Cup was held in 1975 and the winners were the West Indies. They defeated Australia by 17 runs in the final.'"
      ]
     },
     "execution_count": 81,
     "metadata": {},
     "output_type": "execute_result"
    }
   ],
   "source": [
    "convo.run(\"Who won the first cricket world cup?\")"
   ]
  },
  {
   "cell_type": "code",
   "execution_count": 82,
   "id": "6b23cdf2-80d5-4ec6-99de-23e29837fa97",
   "metadata": {},
   "outputs": [
    {
     "data": {
      "text/plain": [
       "' 5+5 equals 10.'"
      ]
     },
     "execution_count": 82,
     "metadata": {},
     "output_type": "execute_result"
    }
   ],
   "source": [
    "convo.run(\"How much is 5+5?\")"
   ]
  },
  {
   "cell_type": "code",
   "execution_count": 83,
   "id": "40febad6-3e3d-46eb-aeb8-83aeb48c814b",
   "metadata": {},
   "outputs": [
    {
     "data": {
      "text/plain": [
       "' The captain of the winning team was Clive Lloyd.'"
      ]
     },
     "execution_count": 83,
     "metadata": {},
     "output_type": "execute_result"
    }
   ],
   "source": [
    "convo.run(\"Who was the captain ofthe winning team?\")"
   ]
  },
  {
   "cell_type": "code",
   "execution_count": 84,
   "id": "7deba290-78e9-4ad5-aeaa-140ed98d51da",
   "metadata": {},
   "outputs": [
    {
     "name": "stdout",
     "output_type": "stream",
     "text": [
      "Human: Who won the first cricket world cup?\n",
      "AI:  The first Cricket World Cup was held in 1975 and the winners were the West Indies. They defeated Australia by 17 runs in the final.\n",
      "Human: How much is 5+5?\n",
      "AI:  5+5 equals 10.\n",
      "Human: Who was the captain ofthe winning team?\n",
      "AI:  The captain of the winning team was Clive Lloyd.\n"
     ]
    }
   ],
   "source": [
    "print(convo.memory.buffer)"
   ]
  },
  {
   "cell_type": "code",
   "execution_count": 88,
   "id": "551b0a68-8069-4045-bf88-2bc923dc3ef8",
   "metadata": {},
   "outputs": [],
   "source": [
    "from langchain.memory import ConversationBufferWindowMemory\n",
    "\n",
    "memory = ConversationBufferWindowMemory(k=3)\n",
    "\n",
    "convo = ConversationChain(\n",
    "    llm=OpenAI(openai_api_key=OPENAI_KEY,temperature=0.7),\n",
    "    memory=memory\n",
    ")\n"
   ]
  },
  {
   "cell_type": "code",
   "execution_count": 89,
   "id": "e46fd23b-14b5-40ca-9506-dc3f9ea0b981",
   "metadata": {},
   "outputs": [
    {
     "data": {
      "text/plain": [
       "' The first cricket world cup was won by the West Indies in 1975.'"
      ]
     },
     "execution_count": 89,
     "metadata": {},
     "output_type": "execute_result"
    }
   ],
   "source": [
    "convo.run(\"Who won the first cricket world cup?\")"
   ]
  },
  {
   "cell_type": "code",
   "execution_count": 90,
   "id": "f549797e-6a26-4fea-a85e-f3c883263f34",
   "metadata": {},
   "outputs": [
    {
     "data": {
      "text/plain": [
       "' 10.'"
      ]
     },
     "execution_count": 90,
     "metadata": {},
     "output_type": "execute_result"
    }
   ],
   "source": [
    "convo.run(\"How much is 5+5?\")"
   ]
  },
  {
   "cell_type": "code",
   "execution_count": 91,
   "id": "06ed7cd7-90d4-4973-a737-6db1e3937ddb",
   "metadata": {},
   "outputs": [
    {
     "data": {
      "text/plain": [
       "' The captain of the winning team at the first cricket world cup was Clive Lloyd.'"
      ]
     },
     "execution_count": 91,
     "metadata": {},
     "output_type": "execute_result"
    }
   ],
   "source": [
    "convo.run(\"Who was the captain of the winning team?\")"
   ]
  },
  {
   "cell_type": "code",
   "execution_count": 92,
   "id": "dc29a931-86ee-461b-83bf-9591088b3f2e",
   "metadata": {},
   "outputs": [
    {
     "name": "stdout",
     "output_type": "stream",
     "text": [
      "Human: Who won the first cricket world cup?\n",
      "AI:  The first cricket world cup was won by the West Indies in 1975.\n",
      "Human: How much is 5+5?\n",
      "AI:  10.\n",
      "Human: Who was the captain of the winning team?\n",
      "AI:  The captain of the winning team at the first cricket world cup was Clive Lloyd.\n"
     ]
    }
   ],
   "source": [
    "print(convo.memory.buffer)"
   ]
  },
  {
   "cell_type": "code",
   "execution_count": null,
   "id": "5bd0f1ec-d45a-4e53-b728-dcc2cbd93533",
   "metadata": {},
   "outputs": [],
   "source": []
  }
 ],
 "metadata": {
  "kernelspec": {
   "display_name": "Python 3 (ipykernel)",
   "language": "python",
   "name": "python3"
  },
  "language_info": {
   "codemirror_mode": {
    "name": "ipython",
    "version": 3
   },
   "file_extension": ".py",
   "mimetype": "text/x-python",
   "name": "python",
   "nbconvert_exporter": "python",
   "pygments_lexer": "ipython3",
   "version": "3.8.18"
  }
 },
 "nbformat": 4,
 "nbformat_minor": 5
}
